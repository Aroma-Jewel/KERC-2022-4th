{
 "cells": [
  {
   "cell_type": "code",
   "execution_count": null,
   "metadata": {},
   "outputs": [],
   "source": [
    "import pandas as pd\n",
    "import os\n",
    "from collections import defaultdict, Counter\n",
    "\n",
    "# label을 덮어 씌울 submission.csv 아무거나\n",
    "base_path = './results/submission.csv'\n",
    "# ensemble 할 csv들이 있는 폴더 경로\n",
    "csv_path = './results'\n",
    "\n",
    "base_df = pd.read_csv(base_path)"
   ]
  },
  {
   "cell_type": "code",
   "execution_count": null,
   "metadata": {},
   "outputs": [],
   "source": [
    "hubo_dict = defaultdict(list)\n",
    "for i in range(len(base_df)):\n",
    "    hubo_dict[i]\n",
    "\n",
    "for path in os.listdir(csv_path):\n",
    "    df = pd.read_csv(os.path.join(csv_path,path))\n",
    "    for i in range(len(df)):\n",
    "        hubo_dict[i].append(df['Predicted'][i])\n",
    "\n",
    "counter = []\n",
    "for key in hubo_dict.keys():\n",
    "    counter.append(Counter(hubo_dict[key]).most_common()[0][0])\n",
    "\n",
    "base_df['Predicted'] = counter"
   ]
  },
  {
   "cell_type": "code",
   "execution_count": null,
   "metadata": {},
   "outputs": [],
   "source": [
    "if not os.path.exists('./final_submission'):\n",
    "    os.makedirs('./final_submission')\n",
    "\n",
    "base_df.to_csv('./final_submission/hard_ensemble_final_submission.csv')"
   ]
  },
  {
   "cell_type": "code",
   "execution_count": null,
   "metadata": {},
   "outputs": [],
   "source": [
    "base_df.head(5)"
   ]
  }
 ],
 "metadata": {
  "kernelspec": {
   "display_name": "Python 3.7.15 64-bit",
   "language": "python",
   "name": "python3"
  },
  "language_info": {
   "name": "python",
   "version": "3.7.15"
  },
  "orig_nbformat": 4,
  "vscode": {
   "interpreter": {
    "hash": "31f2aee4e71d21fbe5cf8b01ff0e069b9275f58929596ceb00d14d90e3e16cd6"
   }
  }
 },
 "nbformat": 4,
 "nbformat_minor": 2
}
