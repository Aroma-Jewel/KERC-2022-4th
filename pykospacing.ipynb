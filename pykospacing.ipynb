{
 "cells": [
  {
   "cell_type": "markdown",
   "metadata": {},
   "source": [
    "# [설치](https://github.com/haven-jeon/PyKoSpacing) "
   ]
  },
  {
   "cell_type": "code",
   "execution_count": null,
   "metadata": {},
   "outputs": [],
   "source": [
    "!pip install git+https://github.com/haven-jeon/PyKoSpacing.git"
   ]
  },
  {
   "cell_type": "markdown",
   "metadata": {},
   "source": [
    "# 적용"
   ]
  },
  {
   "cell_type": "code",
   "execution_count": null,
   "metadata": {},
   "outputs": [],
   "source": [
    "import pandas as pd\n",
    "from pykospacing import Spacing\n",
    "from tqdm import tqdm\n",
    "tqdm.pandas()\n",
    "\n",
    "train = pd.read_csv('./Datasets/train_data.tsv',delimiter='\\t') \n",
    "public = pd.read_csv('./Datasets/public_test_data.tsv',delimiter='\\t')\n",
    "private = pd.read_csv('./Datasets/private_test_data.tsv',delimiter='\\t')\n",
    "\n",
    "spacing = Spacing()\n",
    "\n",
    "def pykospacing(text):\n",
    "    try:\n",
    "        return spacing(text)\n",
    "    except:\n",
    "        return text\n",
    "\n",
    "train['sentence'] = train['sentence'].progress_apply(lambda x : pykospacing(x))\n",
    "train['context'] = train['context'].progress_apply(lambda x : pykospacing(x))\n",
    "public['sentence'] = public['sentence'].progress_apply(lambda x : pykospacing(x))\n",
    "public['context'] = public['context'].progress_apply(lambda x : pykospacing(x))\n",
    "private['sentence'] = private['sentence'].progress_apply(lambda x : pykospacing(x))\n",
    "private['context'] = private['context'].progress_apply(lambda x : pykospacing(x))\n",
    "\n",
    "train.to_csv('../Datasets/train_data_pykospacing.tsv',sep='\\t',encoding='utf-8',index=False)\n",
    "public.to_csv('./Datasets/public_test_data_pykospacing.tsv',sep='\t',encoding='utf-8',index=False)\n",
    "private.to_csv('./Datasets/private_test_data_pykospacing.tsv',sep='\t',encoding='utf-8',index=False)"
   ]
  }
 ],
 "metadata": {
  "kernelspec": {
   "display_name": "Python 3.7.14 64-bit",
   "language": "python",
   "name": "python3"
  },
  "language_info": {
   "codemirror_mode": {
    "name": "ipython",
    "version": 3
   },
   "file_extension": ".py",
   "mimetype": "text/x-python",
   "name": "python",
   "nbconvert_exporter": "python",
   "pygments_lexer": "ipython3",
   "version": "3.7.15"
  },
  "orig_nbformat": 4,
  "vscode": {
   "interpreter": {
    "hash": "31f2aee4e71d21fbe5cf8b01ff0e069b9275f58929596ceb00d14d90e3e16cd6"
   }
  }
 },
 "nbformat": 4,
 "nbformat_minor": 2
}
