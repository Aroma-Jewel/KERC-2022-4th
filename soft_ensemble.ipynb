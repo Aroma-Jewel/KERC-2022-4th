{
  "cells": [
    {
      "cell_type": "code",
      "execution_count": null,
      "metadata": {
        "id": "q89qX9IIs5wM"
      },
      "outputs": [],
      "source": [
        "import os\n",
        "import pandas as pd\n",
        "data_dir = '/results_probs'\n",
        "dirs = os.listdir(data_dir)\n",
        "final_soft_ensemble = pd.DataFrame(columns = ['Id','probs_0','probs_1','probs_2'])\n",
        "index_to_label = {0:'dysphoria', 1:'neutral', 2:'euphoria'}\n",
        "for i in range(len(dirs)):\n",
        "  if 'ipynb_checkpoints' in os.path.abspath(os.path.join(data_dir, dirs[i])):\n",
        "    continue\n",
        "  one_data_dir = os.path.abspath(os.path.join(data_dir, dirs[i]))\n",
        "  one_data = pd.read_csv(one_data_dir)\n",
        "  if i==0:\n",
        "    final_soft_ensemble['Id'] = one_data['Id']\n",
        "    final_soft_ensemble['probs_0'] = [0.0]*len(one_data['Id'])\n",
        "    final_soft_ensemble['probs_1'] = [0.0]*len(one_data['Id'])\n",
        "    final_soft_ensemble['probs_2'] = [0.0]*len(one_data['Id'])\n",
        "  probs_0 = []\n",
        "  probs_0 = [float(one_0.split(\" \")[0]) for one_0 in one_data['probs']]\n",
        "  probs_1 = []\n",
        "  probs_1 = [float(one_0.split(\" \")[1]) for one_0 in one_data['probs']]\n",
        "  probs_2 = []\n",
        "  probs_2 = [float(one_0.split(\" \")[2]) for one_0 in one_data['probs']]\n",
        "  final_soft_ensemble['probs_0'] += probs_0\n",
        "  final_soft_ensemble['probs_1'] += probs_1\n",
        "  final_soft_ensemble['probs_2'] += probs_2"
      ]
    },
    {
      "cell_type": "code",
      "execution_count": null,
      "metadata": {
        "id": "3txooA46s9RI"
      },
      "outputs": [],
      "source": [
        "import numpy as np\n",
        "final_submission = pd.DataFrame(columns = ['Id','Predicted'])\n",
        "\n",
        "final_submission['Id'] = final_soft_ensemble['Id']\n",
        "final_submission['Predicted'] = [index_to_label[np.array([a,b,c]).argmax()] for a,b,c in zip(final_soft_ensemble['probs_0'], final_soft_ensemble['probs_1'], final_soft_ensemble['probs_2'])]"
      ]
    },
    {
      "cell_type": "code",
      "execution_count": null,
      "metadata": {},
      "outputs": [],
      "source": [
        "if not os.path.exists('./final_submission'):\n",
        "    os.makedirs('./final_submission')\n",
        "\n",
        "final_submission.to_csv('./final_submission/soft_ensemble_final_submission.csv')\n",
        "final_submission.head(5)"
      ]
    }
  ],
  "metadata": {
    "colab": {
      "collapsed_sections": [],
      "provenance": []
    },
    "kernelspec": {
      "display_name": "Python 3.7.15 64-bit",
      "language": "python",
      "name": "python3"
    },
    "language_info": {
      "name": "python",
      "version": "3.7.15"
    },
    "vscode": {
      "interpreter": {
        "hash": "31f2aee4e71d21fbe5cf8b01ff0e069b9275f58929596ceb00d14d90e3e16cd6"
      }
    }
  },
  "nbformat": 4,
  "nbformat_minor": 0
}
